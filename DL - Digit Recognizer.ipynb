{
 "cells": [
  {
   "cell_type": "markdown",
   "id": "65736d70",
   "metadata": {},
   "source": [
    "# Main Library"
   ]
  },
  {
   "cell_type": "code",
   "execution_count": 21,
   "id": "0086bcfc",
   "metadata": {},
   "outputs": [],
   "source": [
    "# Reading Data\n",
    "import pandas as pd\n",
    "import numpy as np\n",
    "import matplotlib.pyplot as plt\n",
    "import seaborn as sns\n",
    "import cv2\n",
    "\n",
    "# Make Preprocessing Data\n",
    "# from keras.utils import np_utils\n",
    "from sklearn.model_selection import train_test_split\n",
    "from sklearn.utils import shuffle\n",
    "from imblearn.over_sampling import SMOTE\n",
    "from keras.preprocessing.image import ImageDataGenerator\n",
    "from keras.utils.np_utils import to_categorical\n",
    "\n",
    "# Make Model\n",
    "import tensorflow as tf\n",
    "import tensorflow.keras as k\n",
    "from tensorflow.keras.layers import Dense, Dropout, MaxPool2D\n",
    "\n",
    "# Download Model\n",
    "import pickle"
   ]
  },
  {
   "cell_type": "code",
   "execution_count": 22,
   "id": "7166c825",
   "metadata": {},
   "outputs": [
    {
     "data": {
      "text/html": [
       "<div>\n",
       "<style scoped>\n",
       "    .dataframe tbody tr th:only-of-type {\n",
       "        vertical-align: middle;\n",
       "    }\n",
       "\n",
       "    .dataframe tbody tr th {\n",
       "        vertical-align: top;\n",
       "    }\n",
       "\n",
       "    .dataframe thead th {\n",
       "        text-align: right;\n",
       "    }\n",
       "</style>\n",
       "<table border=\"1\" class=\"dataframe\">\n",
       "  <thead>\n",
       "    <tr style=\"text-align: right;\">\n",
       "      <th></th>\n",
       "      <th>label</th>\n",
       "      <th>pixel0</th>\n",
       "      <th>pixel1</th>\n",
       "      <th>pixel2</th>\n",
       "      <th>pixel3</th>\n",
       "      <th>pixel4</th>\n",
       "      <th>pixel5</th>\n",
       "      <th>pixel6</th>\n",
       "      <th>pixel7</th>\n",
       "      <th>pixel8</th>\n",
       "      <th>...</th>\n",
       "      <th>pixel774</th>\n",
       "      <th>pixel775</th>\n",
       "      <th>pixel776</th>\n",
       "      <th>pixel777</th>\n",
       "      <th>pixel778</th>\n",
       "      <th>pixel779</th>\n",
       "      <th>pixel780</th>\n",
       "      <th>pixel781</th>\n",
       "      <th>pixel782</th>\n",
       "      <th>pixel783</th>\n",
       "    </tr>\n",
       "  </thead>\n",
       "  <tbody>\n",
       "    <tr>\n",
       "      <th>0</th>\n",
       "      <td>1</td>\n",
       "      <td>0</td>\n",
       "      <td>0</td>\n",
       "      <td>0</td>\n",
       "      <td>0</td>\n",
       "      <td>0</td>\n",
       "      <td>0</td>\n",
       "      <td>0</td>\n",
       "      <td>0</td>\n",
       "      <td>0</td>\n",
       "      <td>...</td>\n",
       "      <td>0</td>\n",
       "      <td>0</td>\n",
       "      <td>0</td>\n",
       "      <td>0</td>\n",
       "      <td>0</td>\n",
       "      <td>0</td>\n",
       "      <td>0</td>\n",
       "      <td>0</td>\n",
       "      <td>0</td>\n",
       "      <td>0</td>\n",
       "    </tr>\n",
       "    <tr>\n",
       "      <th>1</th>\n",
       "      <td>0</td>\n",
       "      <td>0</td>\n",
       "      <td>0</td>\n",
       "      <td>0</td>\n",
       "      <td>0</td>\n",
       "      <td>0</td>\n",
       "      <td>0</td>\n",
       "      <td>0</td>\n",
       "      <td>0</td>\n",
       "      <td>0</td>\n",
       "      <td>...</td>\n",
       "      <td>0</td>\n",
       "      <td>0</td>\n",
       "      <td>0</td>\n",
       "      <td>0</td>\n",
       "      <td>0</td>\n",
       "      <td>0</td>\n",
       "      <td>0</td>\n",
       "      <td>0</td>\n",
       "      <td>0</td>\n",
       "      <td>0</td>\n",
       "    </tr>\n",
       "    <tr>\n",
       "      <th>2</th>\n",
       "      <td>1</td>\n",
       "      <td>0</td>\n",
       "      <td>0</td>\n",
       "      <td>0</td>\n",
       "      <td>0</td>\n",
       "      <td>0</td>\n",
       "      <td>0</td>\n",
       "      <td>0</td>\n",
       "      <td>0</td>\n",
       "      <td>0</td>\n",
       "      <td>...</td>\n",
       "      <td>0</td>\n",
       "      <td>0</td>\n",
       "      <td>0</td>\n",
       "      <td>0</td>\n",
       "      <td>0</td>\n",
       "      <td>0</td>\n",
       "      <td>0</td>\n",
       "      <td>0</td>\n",
       "      <td>0</td>\n",
       "      <td>0</td>\n",
       "    </tr>\n",
       "    <tr>\n",
       "      <th>3</th>\n",
       "      <td>4</td>\n",
       "      <td>0</td>\n",
       "      <td>0</td>\n",
       "      <td>0</td>\n",
       "      <td>0</td>\n",
       "      <td>0</td>\n",
       "      <td>0</td>\n",
       "      <td>0</td>\n",
       "      <td>0</td>\n",
       "      <td>0</td>\n",
       "      <td>...</td>\n",
       "      <td>0</td>\n",
       "      <td>0</td>\n",
       "      <td>0</td>\n",
       "      <td>0</td>\n",
       "      <td>0</td>\n",
       "      <td>0</td>\n",
       "      <td>0</td>\n",
       "      <td>0</td>\n",
       "      <td>0</td>\n",
       "      <td>0</td>\n",
       "    </tr>\n",
       "    <tr>\n",
       "      <th>4</th>\n",
       "      <td>0</td>\n",
       "      <td>0</td>\n",
       "      <td>0</td>\n",
       "      <td>0</td>\n",
       "      <td>0</td>\n",
       "      <td>0</td>\n",
       "      <td>0</td>\n",
       "      <td>0</td>\n",
       "      <td>0</td>\n",
       "      <td>0</td>\n",
       "      <td>...</td>\n",
       "      <td>0</td>\n",
       "      <td>0</td>\n",
       "      <td>0</td>\n",
       "      <td>0</td>\n",
       "      <td>0</td>\n",
       "      <td>0</td>\n",
       "      <td>0</td>\n",
       "      <td>0</td>\n",
       "      <td>0</td>\n",
       "      <td>0</td>\n",
       "    </tr>\n",
       "  </tbody>\n",
       "</table>\n",
       "<p>5 rows × 785 columns</p>\n",
       "</div>"
      ],
      "text/plain": [
       "   label  pixel0  pixel1  pixel2  pixel3  pixel4  pixel5  pixel6  pixel7  \\\n",
       "0      1       0       0       0       0       0       0       0       0   \n",
       "1      0       0       0       0       0       0       0       0       0   \n",
       "2      1       0       0       0       0       0       0       0       0   \n",
       "3      4       0       0       0       0       0       0       0       0   \n",
       "4      0       0       0       0       0       0       0       0       0   \n",
       "\n",
       "   pixel8  ...  pixel774  pixel775  pixel776  pixel777  pixel778  pixel779  \\\n",
       "0       0  ...         0         0         0         0         0         0   \n",
       "1       0  ...         0         0         0         0         0         0   \n",
       "2       0  ...         0         0         0         0         0         0   \n",
       "3       0  ...         0         0         0         0         0         0   \n",
       "4       0  ...         0         0         0         0         0         0   \n",
       "\n",
       "   pixel780  pixel781  pixel782  pixel783  \n",
       "0         0         0         0         0  \n",
       "1         0         0         0         0  \n",
       "2         0         0         0         0  \n",
       "3         0         0         0         0  \n",
       "4         0         0         0         0  \n",
       "\n",
       "[5 rows x 785 columns]"
      ]
     },
     "execution_count": 22,
     "metadata": {},
     "output_type": "execute_result"
    }
   ],
   "source": [
    "data_train = pd.read_csv(r\"D:\\Courses language programming\\6_Deep Learning\\Deep Learning Project\\Competitions\\digit-recognizer\\train.csv\")\n",
    "data_train.head(5)"
   ]
  },
  {
   "cell_type": "code",
   "execution_count": 3,
   "id": "e904d537",
   "metadata": {},
   "outputs": [
    {
     "data": {
      "text/html": [
       "<div>\n",
       "<style scoped>\n",
       "    .dataframe tbody tr th:only-of-type {\n",
       "        vertical-align: middle;\n",
       "    }\n",
       "\n",
       "    .dataframe tbody tr th {\n",
       "        vertical-align: top;\n",
       "    }\n",
       "\n",
       "    .dataframe thead th {\n",
       "        text-align: right;\n",
       "    }\n",
       "</style>\n",
       "<table border=\"1\" class=\"dataframe\">\n",
       "  <thead>\n",
       "    <tr style=\"text-align: right;\">\n",
       "      <th></th>\n",
       "      <th>pixel0</th>\n",
       "      <th>pixel1</th>\n",
       "      <th>pixel2</th>\n",
       "      <th>pixel3</th>\n",
       "      <th>pixel4</th>\n",
       "      <th>pixel5</th>\n",
       "      <th>pixel6</th>\n",
       "      <th>pixel7</th>\n",
       "      <th>pixel8</th>\n",
       "      <th>pixel9</th>\n",
       "      <th>...</th>\n",
       "      <th>pixel774</th>\n",
       "      <th>pixel775</th>\n",
       "      <th>pixel776</th>\n",
       "      <th>pixel777</th>\n",
       "      <th>pixel778</th>\n",
       "      <th>pixel779</th>\n",
       "      <th>pixel780</th>\n",
       "      <th>pixel781</th>\n",
       "      <th>pixel782</th>\n",
       "      <th>pixel783</th>\n",
       "    </tr>\n",
       "  </thead>\n",
       "  <tbody>\n",
       "    <tr>\n",
       "      <th>0</th>\n",
       "      <td>0</td>\n",
       "      <td>0</td>\n",
       "      <td>0</td>\n",
       "      <td>0</td>\n",
       "      <td>0</td>\n",
       "      <td>0</td>\n",
       "      <td>0</td>\n",
       "      <td>0</td>\n",
       "      <td>0</td>\n",
       "      <td>0</td>\n",
       "      <td>...</td>\n",
       "      <td>0</td>\n",
       "      <td>0</td>\n",
       "      <td>0</td>\n",
       "      <td>0</td>\n",
       "      <td>0</td>\n",
       "      <td>0</td>\n",
       "      <td>0</td>\n",
       "      <td>0</td>\n",
       "      <td>0</td>\n",
       "      <td>0</td>\n",
       "    </tr>\n",
       "    <tr>\n",
       "      <th>1</th>\n",
       "      <td>0</td>\n",
       "      <td>0</td>\n",
       "      <td>0</td>\n",
       "      <td>0</td>\n",
       "      <td>0</td>\n",
       "      <td>0</td>\n",
       "      <td>0</td>\n",
       "      <td>0</td>\n",
       "      <td>0</td>\n",
       "      <td>0</td>\n",
       "      <td>...</td>\n",
       "      <td>0</td>\n",
       "      <td>0</td>\n",
       "      <td>0</td>\n",
       "      <td>0</td>\n",
       "      <td>0</td>\n",
       "      <td>0</td>\n",
       "      <td>0</td>\n",
       "      <td>0</td>\n",
       "      <td>0</td>\n",
       "      <td>0</td>\n",
       "    </tr>\n",
       "    <tr>\n",
       "      <th>2</th>\n",
       "      <td>0</td>\n",
       "      <td>0</td>\n",
       "      <td>0</td>\n",
       "      <td>0</td>\n",
       "      <td>0</td>\n",
       "      <td>0</td>\n",
       "      <td>0</td>\n",
       "      <td>0</td>\n",
       "      <td>0</td>\n",
       "      <td>0</td>\n",
       "      <td>...</td>\n",
       "      <td>0</td>\n",
       "      <td>0</td>\n",
       "      <td>0</td>\n",
       "      <td>0</td>\n",
       "      <td>0</td>\n",
       "      <td>0</td>\n",
       "      <td>0</td>\n",
       "      <td>0</td>\n",
       "      <td>0</td>\n",
       "      <td>0</td>\n",
       "    </tr>\n",
       "    <tr>\n",
       "      <th>3</th>\n",
       "      <td>0</td>\n",
       "      <td>0</td>\n",
       "      <td>0</td>\n",
       "      <td>0</td>\n",
       "      <td>0</td>\n",
       "      <td>0</td>\n",
       "      <td>0</td>\n",
       "      <td>0</td>\n",
       "      <td>0</td>\n",
       "      <td>0</td>\n",
       "      <td>...</td>\n",
       "      <td>0</td>\n",
       "      <td>0</td>\n",
       "      <td>0</td>\n",
       "      <td>0</td>\n",
       "      <td>0</td>\n",
       "      <td>0</td>\n",
       "      <td>0</td>\n",
       "      <td>0</td>\n",
       "      <td>0</td>\n",
       "      <td>0</td>\n",
       "    </tr>\n",
       "    <tr>\n",
       "      <th>4</th>\n",
       "      <td>0</td>\n",
       "      <td>0</td>\n",
       "      <td>0</td>\n",
       "      <td>0</td>\n",
       "      <td>0</td>\n",
       "      <td>0</td>\n",
       "      <td>0</td>\n",
       "      <td>0</td>\n",
       "      <td>0</td>\n",
       "      <td>0</td>\n",
       "      <td>...</td>\n",
       "      <td>0</td>\n",
       "      <td>0</td>\n",
       "      <td>0</td>\n",
       "      <td>0</td>\n",
       "      <td>0</td>\n",
       "      <td>0</td>\n",
       "      <td>0</td>\n",
       "      <td>0</td>\n",
       "      <td>0</td>\n",
       "      <td>0</td>\n",
       "    </tr>\n",
       "  </tbody>\n",
       "</table>\n",
       "<p>5 rows × 784 columns</p>\n",
       "</div>"
      ],
      "text/plain": [
       "   pixel0  pixel1  pixel2  pixel3  pixel4  pixel5  pixel6  pixel7  pixel8  \\\n",
       "0       0       0       0       0       0       0       0       0       0   \n",
       "1       0       0       0       0       0       0       0       0       0   \n",
       "2       0       0       0       0       0       0       0       0       0   \n",
       "3       0       0       0       0       0       0       0       0       0   \n",
       "4       0       0       0       0       0       0       0       0       0   \n",
       "\n",
       "   pixel9  ...  pixel774  pixel775  pixel776  pixel777  pixel778  pixel779  \\\n",
       "0       0  ...         0         0         0         0         0         0   \n",
       "1       0  ...         0         0         0         0         0         0   \n",
       "2       0  ...         0         0         0         0         0         0   \n",
       "3       0  ...         0         0         0         0         0         0   \n",
       "4       0  ...         0         0         0         0         0         0   \n",
       "\n",
       "   pixel780  pixel781  pixel782  pixel783  \n",
       "0         0         0         0         0  \n",
       "1         0         0         0         0  \n",
       "2         0         0         0         0  \n",
       "3         0         0         0         0  \n",
       "4         0         0         0         0  \n",
       "\n",
       "[5 rows x 784 columns]"
      ]
     },
     "execution_count": 3,
     "metadata": {},
     "output_type": "execute_result"
    }
   ],
   "source": [
    "data_test = pd.read_csv(r\"D:\\Courses language programming\\6_Deep Learning\\Deep Learning Project\\Competitions\\digit-recognizer\\test.csv\")\n",
    "data_test.head(5)"
   ]
  },
  {
   "cell_type": "code",
   "execution_count": 4,
   "id": "bced7756",
   "metadata": {},
   "outputs": [
    {
     "data": {
      "text/plain": [
       "<matplotlib.image.AxesImage at 0x2e3935f2e30>"
      ]
     },
     "execution_count": 4,
     "metadata": {},
     "output_type": "execute_result"
    },
    {
     "data": {
      "image/png": "[encoded data removed]",
      "text/plain": [
       "<Figure size 640x480 with 1 Axes>"
      ]
     },
     "metadata": {},
     "output_type": "display_data"
    }
   ],
   "source": [
    "plt.imshow(np.reshape(data_train.iloc[0][1:].values.astype('uint8'), (28, 28, 1)))"
   ]
  },
  {
   "cell_type": "code",
   "execution_count": 5,
   "id": "a57e231b",
   "metadata": {},
   "outputs": [
    {
     "name": "stdout",
     "output_type": "stream",
     "text": [
      "<class 'pandas.core.frame.DataFrame'>\n",
      "RangeIndex: 42000 entries, 0 to 41999\n",
      "Columns: 785 entries, label to pixel783\n",
      "dtypes: int64(785)\n",
      "memory usage: 251.5 MB\n"
     ]
    }
   ],
   "source": [
    "data_train.info()"
   ]
  },
  {
   "cell_type": "code",
   "execution_count": 6,
   "id": "c7228526",
   "metadata": {},
   "outputs": [
    {
     "data": {
      "text/plain": [
       "((42000, 785), (28000, 784))"
      ]
     },
     "execution_count": 6,
     "metadata": {},
     "output_type": "execute_result"
    }
   ],
   "source": [
    "data_train.shape, data_test.shape"
   ]
  },
  {
   "cell_type": "markdown",
   "id": "67db6905",
   "metadata": {},
   "source": [
    "## Over Sampling"
   ]
  },
  {
   "cell_type": "code",
   "execution_count": 7,
   "id": "e88b0c1d",
   "metadata": {},
   "outputs": [
    {
     "data": {
      "text/plain": [
       "label\n",
       "1    4684\n",
       "7    4401\n",
       "3    4351\n",
       "9    4188\n",
       "2    4177\n",
       "6    4137\n",
       "0    4132\n",
       "4    4072\n",
       "8    4063\n",
       "5    3795\n",
       "Name: count, dtype: int64"
      ]
     },
     "execution_count": 7,
     "metadata": {},
     "output_type": "execute_result"
    }
   ],
   "source": [
    "X = data_train.drop(columns=\"label\", axis=1)\n",
    "Y = data_train[\"label\"]\n",
    "data_train[\"label\"].value_counts()"
   ]
  },
  {
   "cell_type": "code",
   "execution_count": 8,
   "id": "32c0e6f0",
   "metadata": {},
   "outputs": [],
   "source": [
    "smote = SMOTE()\n",
    "new_x, new_y = smote.fit_resample(X, Y)\n",
    "data_train = pd.concat([new_x, new_y], axis=1)"
   ]
  },
  {
   "cell_type": "code",
   "execution_count": 9,
   "id": "966b9cba",
   "metadata": {},
   "outputs": [
    {
     "data": {
      "text/plain": [
       "label\n",
       "1    4684\n",
       "0    4684\n",
       "4    4684\n",
       "7    4684\n",
       "3    4684\n",
       "5    4684\n",
       "8    4684\n",
       "9    4684\n",
       "2    4684\n",
       "6    4684\n",
       "Name: count, dtype: int64"
      ]
     },
     "execution_count": 9,
     "metadata": {},
     "output_type": "execute_result"
    }
   ],
   "source": [
    "data_train[\"label\"].value_counts()"
   ]
  },
  {
   "cell_type": "code",
   "execution_count": 10,
   "id": "233d7c48",
   "metadata": {},
   "outputs": [],
   "source": [
    "x_train, y_train = data_train.drop(columns=\"label\", axis=1), data_train[\"label\"]"
   ]
  },
  {
   "cell_type": "code",
   "execution_count": 11,
   "id": "29f9eacd",
   "metadata": {},
   "outputs": [
    {
     "data": {
      "text/plain": [
       "((46840, 784), (46840,))"
      ]
     },
     "execution_count": 11,
     "metadata": {},
     "output_type": "execute_result"
    }
   ],
   "source": [
    "x_train.shape, y_train.shape"
   ]
  },
  {
   "cell_type": "code",
   "execution_count": 12,
   "id": "fe26f186",
   "metadata": {},
   "outputs": [
    {
     "data": {
      "image/png": "[encoded data removed]",
      "text/plain": [
       "<Figure size 1000x800 with 1 Axes>"
      ]
     },
     "metadata": {},
     "output_type": "display_data"
    }
   ],
   "source": [
    "plt.figure(figsize=(10, 8))\n",
    "sns.countplot(x =y_train, palette=\"icefire\")\n",
    "plt.title(\"Number of Digits Class\")\n",
    "plt.show()"
   ]
  },
  {
   "cell_type": "markdown",
   "id": "796e8efa",
   "metadata": {},
   "source": [
    "## Make Reshape ==> data From 784 to (28, 28, 1)"
   ]
  },
  {
   "cell_type": "code",
   "execution_count": 13,
   "id": "a4bfb5fe",
   "metadata": {},
   "outputs": [
    {
     "name": "stdout",
     "output_type": "stream",
     "text": [
      "(46840, 784) (28000, 784)\n"
     ]
    }
   ],
   "source": [
    "x_train = x_train / 255.0\n",
    "data_test = data_test / 255.0\n",
    "\n",
    "print(x_train.shape, data_test.shape)"
   ]
  },
  {
   "cell_type": "code",
   "execution_count": 14,
   "id": "94d70c62",
   "metadata": {},
   "outputs": [
    {
     "name": "stdout",
     "output_type": "stream",
     "text": [
      "(46840, 28, 28, 1)\n",
      "(28000, 28, 28, 1)\n"
     ]
    }
   ],
   "source": [
    "x_train = np.reshape(x_train, (-1, 28, 28, 1))\n",
    "print(x_train.shape)\n",
    "\n",
    "data_test = np.reshape(data_test, (-1, 28, 28, 1))\n",
    "print(data_test.shape)"
   ]
  },
  {
   "cell_type": "code",
   "execution_count": 15,
   "id": "391a08fe",
   "metadata": {},
   "outputs": [
    {
     "name": "stdout",
     "output_type": "stream",
     "text": [
      "x_train shape:  (46840, 28, 28, 1)\n",
      "test shape:  (28000, 28, 28, 1)\n"
     ]
    }
   ],
   "source": [
    "print(\"x_train shape: \",x_train.shape)\n",
    "print(\"test shape: \",data_test.shape)"
   ]
  },
  {
   "cell_type": "markdown",
   "id": "69f27a15",
   "metadata": {},
   "source": [
    "## Make Augmentation"
   ]
  },
  {
   "cell_type": "code",
   "execution_count": 16,
   "id": "493e25fa",
   "metadata": {},
   "outputs": [],
   "source": [
    "data_Aug = tf.keras.Sequential([\n",
    "        k.layers.RandomFlip(\"horizontal\", (28, 28, 3)),\n",
    "        tf.keras.layers.RandomRotation(0.2),\n",
    "        tf.keras.layers.RandomZoom(0.124),\n",
    "        ])"
   ]
  },
  {
   "cell_type": "code",
   "execution_count": 17,
   "id": "91468b20",
   "metadata": {},
   "outputs": [],
   "source": [
    "images = []\n",
    "label_image = []\n",
    "\n",
    "for i in range(46840):\n",
    "    for j in range(3):\n",
    "        new_img = data_Aug(tf.expand_dims(x_train[i], 0))[0]\n",
    "        images.append(new_img)\n",
    "        label_image.append(y_train[i])"
   ]
  },
  {
   "cell_type": "code",
   "execution_count": 18,
   "id": "58bf436a",
   "metadata": {},
   "outputs": [
    {
     "name": "stdout",
     "output_type": "stream",
     "text": [
      "images shape:  140520\n",
      "label_image shape:  140520\n"
     ]
    }
   ],
   "source": [
    "print(\"images shape: \", len(images))\n",
    "print(\"label_image shape: \",len(label_image))"
   ]
  },
  {
   "cell_type": "code",
   "execution_count": 19,
   "id": "14fdf5c0",
   "metadata": {},
   "outputs": [],
   "source": [
    "x_train = np.array(images)\n",
    "y_train = np.array(label_image)"
   ]
  },
  {
   "cell_type": "code",
   "execution_count": 24,
   "id": "694daff6",
   "metadata": {},
   "outputs": [],
   "source": [
    "x_train, y_train = shuffle(x_train, y_train, random_state=2)"
   ]
  },
  {
   "cell_type": "code",
   "execution_count": 25,
   "id": "c71ad7ca",
   "metadata": {},
   "outputs": [
    {
     "data": {
      "image/png": "[encoded data removed]",
      "text/plain": [
       "<Figure size 1000x1000 with 25 Axes>"
      ]
     },
     "metadata": {},
     "output_type": "display_data"
    }
   ],
   "source": [
    "plt.figure(figsize=(10, 10))\n",
    "for i in range(25):\n",
    "    plt.subplot(5, 5, i+1)\n",
    "    plt.xticks([])\n",
    "    plt.yticks([])\n",
    "    plt.imshow(x_train[i])\n",
    "    plt.title(y_train[i])"
   ]
  },
  {
   "cell_type": "code",
   "execution_count": 26,
   "id": "5a72da7a",
   "metadata": {},
   "outputs": [
    {
     "name": "stdout",
     "output_type": "stream",
     "text": [
      "x_train shape:  (140520, 28, 28, 1)\n",
      "test shape:  (140520,)\n"
     ]
    }
   ],
   "source": [
    "print(\"x_train shape: \",x_train.shape)\n",
    "print(\"test shape: \", y_train.shape)"
   ]
  },
  {
   "cell_type": "code",
   "execution_count": 27,
   "id": "a83e138c",
   "metadata": {},
   "outputs": [
    {
     "data": {
      "text/plain": [
       "(array([0., 0., 0., 0., 0., 0., 0., 0., 1., 0.], dtype=float32), (140520, 10))"
      ]
     },
     "execution_count": 27,
     "metadata": {},
     "output_type": "execute_result"
    }
   ],
   "source": [
    "label_image = to_categorical(y_train, 10)\n",
    "label_image[0], label_image.shape"
   ]
  },
  {
   "cell_type": "markdown",
   "id": "ab701859",
   "metadata": {},
   "source": [
    "# Splitting Data"
   ]
  },
  {
   "cell_type": "code",
   "execution_count": 28,
   "id": "d8e19dbc",
   "metadata": {},
   "outputs": [],
   "source": [
    "x_train, x_test, y_train, y_test = train_test_split(x_train, label_image, train_size=0.8, random_state=42)"
   ]
  },
  {
   "cell_type": "code",
   "execution_count": 29,
   "id": "8a992897",
   "metadata": {},
   "outputs": [
    {
     "name": "stdout",
     "output_type": "stream",
     "text": [
      "x_train - shape = (112416, 28, 28, 1)\n",
      "x_test - shape = (28104, 28, 28, 1)\n",
      "y_train - shape = (112416, 10)\n",
      "y_test - shape = (28104, 10)\n"
     ]
    }
   ],
   "source": [
    "print(\"x_train - shape =\", x_train.shape)\n",
    "print(\"x_test - shape =\", x_test.shape)\n",
    "print(\"y_train - shape =\", y_train.shape)\n",
    "print(\"y_test - shape =\", y_test.shape)"
   ]
  },
  {
   "cell_type": "markdown",
   "id": "bc96c332",
   "metadata": {},
   "source": [
    "## Create CNN Model"
   ]
  },
  {
   "cell_type": "code",
   "execution_count": 33,
   "id": "2aa6771d",
   "metadata": {},
   "outputs": [],
   "source": [
    "model = k.models.Sequential()\n",
    "# CNN\n",
    "model.add(k.layers.Conv2D(8, (5, 5), input_shape=(28, 28, 1), activation=\"relu\" ,padding=\"same\"))\n",
    "model.add(k.layers.Conv2D(32, (3, 3), activation=\"relu\" ,padding=\"valid\"))\n",
    "\n",
    "model.add(k.layers.AveragePooling2D((2, 2)))\n",
    "model.add(k.layers.Conv2D(64, (3, 3), activation=\"relu\" ,padding=\"valid\"))\n",
    "\n",
    "\n",
    "model.add(k.layers.Conv2D(64, (3, 3), activation=\"relu\" ,padding=\"same\"))\n",
    "model.add(k.layers.MaxPool2D((2, 2)))\n",
    "\n",
    "\n",
    "model.add(k.layers.Conv2D(128, (3, 3), activation=\"relu\" ,padding=\"same\"))\n",
    "model.add(Dropout(0.4))\n",
    "\n",
    "# ANN\n",
    "model.add(k.layers.Flatten())\n",
    "\n",
    "model.add(k.layers.Dense(256, activation=\"relu\"))\n",
    "model.add(Dropout(0.5))\n",
    "\n",
    "model.add(k.layers.Dense(32, activation=\"relu\"))\n",
    "\n",
    "model.add(k.layers.Dense(10, activation=\"softmax\"))"
   ]
  },
  {
   "cell_type": "code",
   "execution_count": 34,
   "id": "52fd8ac7",
   "metadata": {},
   "outputs": [],
   "source": [
    "model.compile(optimizer=tf.optimizers.Adam(0.001, beta_1=0.86, beta_2=0.999), loss=tf.losses.CategoricalCrossentropy(),\n",
    "             metrics=[\"accuracy\"])"
   ]
  },
  {
   "cell_type": "code",
   "execution_count": 35,
   "id": "69a47d99",
   "metadata": {},
   "outputs": [
    {
     "name": "stdout",
     "output_type": "stream",
     "text": [
      "Epoch 1/10\n",
      "3513/3513 [==============================] - 128s 36ms/step - loss: 0.4567 - accuracy: 0.8533 - val_loss: 0.1599 - val_accuracy: 0.9505\n",
      "Epoch 2/10\n",
      "3513/3513 [==============================] - 127s 36ms/step - loss: 0.1981 - accuracy: 0.9401 - val_loss: 0.1183 - val_accuracy: 0.9643\n",
      "Epoch 3/10\n",
      "3513/3513 [==============================] - 127s 36ms/step - loss: 0.1610 - accuracy: 0.9518 - val_loss: 0.1083 - val_accuracy: 0.9674\n",
      "Epoch 4/10\n",
      "3513/3513 [==============================] - 111s 32ms/step - loss: 0.1358 - accuracy: 0.9587 - val_loss: 0.0949 - val_accuracy: 0.9713\n",
      "Epoch 5/10\n",
      "3513/3513 [==============================] - 106s 30ms/step - loss: 0.1220 - accuracy: 0.9632 - val_loss: 0.0968 - val_accuracy: 0.9705\n",
      "Epoch 6/10\n",
      "3513/3513 [==============================] - 105s 30ms/step - loss: 0.1142 - accuracy: 0.9650 - val_loss: 0.0920 - val_accuracy: 0.9722\n",
      "Epoch 7/10\n",
      "3513/3513 [==============================] - 106s 30ms/step - loss: 0.1055 - accuracy: 0.9678 - val_loss: 0.0846 - val_accuracy: 0.9746\n",
      "Epoch 8/10\n",
      "3513/3513 [==============================] - 109s 31ms/step - loss: 0.0951 - accuracy: 0.9710 - val_loss: 0.0893 - val_accuracy: 0.9736\n",
      "Epoch 9/10\n",
      "3513/3513 [==============================] - 108s 31ms/step - loss: 0.0905 - accuracy: 0.9723 - val_loss: 0.0854 - val_accuracy: 0.9756\n",
      "Epoch 10/10\n",
      "3513/3513 [==============================] - 108s 31ms/step - loss: 0.0858 - accuracy: 0.9734 - val_loss: 0.0958 - val_accuracy: 0.9714\n"
     ]
    },
    {
     "data": {
      "text/plain": [
       "<keras.src.callbacks.History at 0x2e45b819780>"
      ]
     },
     "execution_count": 35,
     "metadata": {},
     "output_type": "execute_result"
    }
   ],
   "source": [
    "model.fit(x_train, y_train, epochs=10, validation_data=(x_test, y_test), validation_split=0.4)"
   ]
  },
  {
   "cell_type": "code",
   "execution_count": 36,
   "id": "2278a6df",
   "metadata": {},
   "outputs": [
    {
     "name": "stdout",
     "output_type": "stream",
     "text": [
      "879/879 [==============================] - 7s 7ms/step - loss: 0.0958 - accuracy: 0.9714\n",
      "The Accuracy Training Data is  0.9714\n",
      "The loss Training Data is  0.0958\n"
     ]
    }
   ],
   "source": [
    "loss, acc = model.evaluate(x_test, y_test)\n",
    "\n",
    "print(\"The Accuracy Training Data is \", round(acc, 4))\n",
    "print(\"The loss Training Data is \", round(loss, 4))"
   ]
  },
  {
   "cell_type": "code",
   "execution_count": 38,
   "id": "3abe3b6c",
   "metadata": {},
   "outputs": [],
   "source": [
    "model.fit(x_test, y_test, epochs=5, validation_data=(x_train, y_train), validation_split=0.2)"
   ]
  },
  {
   "cell_type": "code",
   "execution_count": 39,
   "id": "76c5465f",
   "metadata": {},
   "outputs": [],
   "source": [
    "loss, acc = model.evaluate(x_test, y_test)\n",
    "\n",
    "print(\"The Accuracy Training Data is \", round(acc, 4))\n",
    "print(\"The loss Training Data is \", round(loss, 4))"
   ]
  },
  {
   "cell_type": "markdown",
   "id": "7d9722bf",
   "metadata": {},
   "source": [
    "# Prediction"
   ]
  },
  {
   "cell_type": "code",
   "execution_count": 34,
   "id": "60c28431",
   "metadata": {},
   "outputs": [
    {
     "name": "stdout",
     "output_type": "stream",
     "text": [
      "875/875 [==============================] - 4s 4ms/step\n"
     ]
    }
   ],
   "source": [
    "prediction = model.predict(data_test)\n",
    "prediction = [pre.argmax() for pre in prediction]"
   ]
  },
  {
   "cell_type": "code",
   "execution_count": 35,
   "id": "c1f4fa0c",
   "metadata": {},
   "outputs": [
    {
     "data": {
      "text/plain": [
       "[2, 0, 9, 9, 3]"
      ]
     },
     "execution_count": 35,
     "metadata": {},
     "output_type": "execute_result"
    }
   ],
   "source": [
    "prediction[0:5]"
   ]
  },
  {
   "cell_type": "code",
   "execution_count": 36,
   "id": "01f6a469",
   "metadata": {},
   "outputs": [],
   "source": [
    "submition = pd.DataFrame({\"imageid\": range(1, len(prediction)+1),\n",
    "                          \"Label\": prediction})"
   ]
  },
  {
   "cell_type": "code",
   "execution_count": 37,
   "id": "e3803765",
   "metadata": {},
   "outputs": [
    {
     "data": {
      "text/html": [
       "<div>\n",
       "<style scoped>\n",
       "    .dataframe tbody tr th:only-of-type {\n",
       "        vertical-align: middle;\n",
       "    }\n",
       "\n",
       "    .dataframe tbody tr th {\n",
       "        vertical-align: top;\n",
       "    }\n",
       "\n",
       "    .dataframe thead th {\n",
       "        text-align: right;\n",
       "    }\n",
       "</style>\n",
       "<table border=\"1\" class=\"dataframe\">\n",
       "  <thead>\n",
       "    <tr style=\"text-align: right;\">\n",
       "      <th></th>\n",
       "      <th>imageid</th>\n",
       "      <th>Label</th>\n",
       "    </tr>\n",
       "  </thead>\n",
       "  <tbody>\n",
       "    <tr>\n",
       "      <th>0</th>\n",
       "      <td>1</td>\n",
       "      <td>2</td>\n",
       "    </tr>\n",
       "    <tr>\n",
       "      <th>1</th>\n",
       "      <td>2</td>\n",
       "      <td>0</td>\n",
       "    </tr>\n",
       "    <tr>\n",
       "      <th>2</th>\n",
       "      <td>3</td>\n",
       "      <td>9</td>\n",
       "    </tr>\n",
       "    <tr>\n",
       "      <th>3</th>\n",
       "      <td>4</td>\n",
       "      <td>9</td>\n",
       "    </tr>\n",
       "    <tr>\n",
       "      <th>4</th>\n",
       "      <td>5</td>\n",
       "      <td>3</td>\n",
       "    </tr>\n",
       "  </tbody>\n",
       "</table>\n",
       "</div>"
      ],
      "text/plain": [
       "   imageid  Label\n",
       "0        1      2\n",
       "1        2      0\n",
       "2        3      9\n",
       "3        4      9\n",
       "4        5      3"
      ]
     },
     "execution_count": 37,
     "metadata": {},
     "output_type": "execute_result"
    }
   ],
   "source": [
    "submition.head(5)"
   ]
  },
  {
   "cell_type": "code",
   "execution_count": 38,
   "id": "9055a4b5",
   "metadata": {},
   "outputs": [],
   "source": [
    "submition.to_csv(r\"D:\\Courses language programming\\6_Deep Learning\\Deep Learning Project\\Competitions\\digit-recognizer\\Submition.csv\", index=False)"
   ]
  },
  {
   "cell_type": "markdown",
   "id": "beb21563",
   "metadata": {},
   "source": [
    "## Create Pretraining Model"
   ]
  },
  {
   "cell_type": "code",
   "execution_count": 17,
   "id": "80e5f166",
   "metadata": {},
   "outputs": [
    {
     "data": {
      "text/plain": [
       "(33600, 128, 128, 3)"
      ]
     },
     "execution_count": 17,
     "metadata": {},
     "output_type": "execute_result"
    }
   ],
   "source": [
    "x_train_1 = x_train.astype(\"float32\")\n",
    "new_xtrain = []\n",
    "for image in x_train_1:\n",
    "    new_image = cv2.resize(image, (128, 128))\n",
    "    new_image = cv2.cvtColor(new_image, cv2.COLOR_RGB2BGR)\n",
    "    new_xtrain.append(new_image)\n",
    "    \n",
    "new_xtrain = np.array(new_xtrain)\n",
    "new_xtrain.shape"
   ]
  },
  {
   "cell_type": "code",
   "execution_count": 18,
   "id": "92364201",
   "metadata": {},
   "outputs": [
    {
     "data": {
      "text/plain": [
       "(8400, 128, 128, 3)"
      ]
     },
     "execution_count": 18,
     "metadata": {},
     "output_type": "execute_result"
    }
   ],
   "source": [
    "x_test_1 = x_test.astype(\"float32\")\n",
    "new_xtest = []\n",
    "for image in x_test_1:\n",
    "    new_image = cv2.resize(image, (128, 128))\n",
    "    new_image = cv2.cvtColor(new_image, cv2.COLOR_RGB2BGR)\n",
    "    new_xtest.append(new_image)\n",
    "    \n",
    "new_xtest = np.array(new_xtest)\n",
    "new_xtest.shape"
   ]
  },
  {
   "cell_type": "code",
   "execution_count": 24,
   "id": "8d6b5d75",
   "metadata": {},
   "outputs": [
    {
     "data": {
      "text/plain": [
       "(28000, 128, 128, 3)"
      ]
     },
     "execution_count": 24,
     "metadata": {},
     "output_type": "execute_result"
    }
   ],
   "source": [
    "data_test = data_test.astype(\"float32\")\n",
    "new_test = []\n",
    "for image in data_test:\n",
    "    new_image = cv2.resize(image, (128, 128))\n",
    "    new_image = cv2.cvtColor(new_image, cv2.COLOR_RGB2BGR)\n",
    "    new_test.append(new_image)\n",
    "    \n",
    "new_test = np.array(new_test)\n",
    "new_test.shape"
   ]
  },
  {
   "cell_type": "code",
   "execution_count": 26,
   "id": "7ae4960b",
   "metadata": {},
   "outputs": [],
   "source": [
    "model_mobilenet = tf.keras.applications.mobilenet.MobileNet(input_shape=(128, 128, 3))"
   ]
  },
  {
   "cell_type": "code",
   "execution_count": 27,
   "id": "8a4843cd",
   "metadata": {},
   "outputs": [],
   "source": [
    "model_1 = k.models.Sequential()\n",
    "for layer in model_mobilenet.layers[:-1]:\n",
    "    model_1.add(layer)\n",
    "for layers in model_1.layers:\n",
    "    layers.trainable = False"
   ]
  },
  {
   "cell_type": "code",
   "execution_count": 28,
   "id": "a247b0da",
   "metadata": {},
   "outputs": [],
   "source": [
    "model_1.add(Dense(10, activation=\"softmax\"))\n",
    "model_1.compile(optimizer=\"adam\",\n",
    "                loss=\"categorical_crossentropy\",\n",
    "                metrics=[\"accuracy\"])\n",
    "# model_1.summary()"
   ]
  },
  {
   "cell_type": "code",
   "execution_count": 29,
   "id": "1c1b4e7b",
   "metadata": {},
   "outputs": [
    {
     "name": "stdout",
     "output_type": "stream",
     "text": [
      "Epoch 1/10\n",
      "1050/1050 [==============================] - 171s 157ms/step - loss: 0.2268 - accuracy: 0.9333 - val_loss: 0.1183 - val_accuracy: 0.9632\n",
      "Epoch 2/10\n",
      "1050/1050 [==============================] - 147s 140ms/step - loss: 0.1178 - accuracy: 0.9647 - val_loss: 0.1011 - val_accuracy: 0.9708\n",
      "Epoch 3/10\n",
      "1050/1050 [==============================] - 147s 140ms/step - loss: 0.1085 - accuracy: 0.9689 - val_loss: 0.1790 - val_accuracy: 0.9558\n",
      "Epoch 4/10\n",
      "1050/1050 [==============================] - 146s 140ms/step - loss: 0.1041 - accuracy: 0.9717 - val_loss: 0.1311 - val_accuracy: 0.9680\n",
      "Epoch 5/10\n",
      "1050/1050 [==============================] - 146s 139ms/step - loss: 0.0928 - accuracy: 0.9759 - val_loss: 0.1036 - val_accuracy: 0.9764\n",
      "Epoch 6/10\n",
      "1050/1050 [==============================] - 152s 145ms/step - loss: 0.0910 - accuracy: 0.9758 - val_loss: 0.1990 - val_accuracy: 0.9556\n",
      "Epoch 7/10\n",
      "1050/1050 [==============================] - 152s 144ms/step - loss: 0.0824 - accuracy: 0.9779 - val_loss: 0.1338 - val_accuracy: 0.9692\n",
      "Epoch 8/10\n",
      "1050/1050 [==============================] - 150s 143ms/step - loss: 0.0811 - accuracy: 0.9785 - val_loss: 0.1147 - val_accuracy: 0.9755\n",
      "Epoch 9/10\n",
      "1050/1050 [==============================] - 157s 150ms/step - loss: 0.0751 - accuracy: 0.9803 - val_loss: 0.1099 - val_accuracy: 0.9767\n",
      "Epoch 10/10\n",
      " 689/1050 [==================>...........] - ETA: 40s - loss: 0.0706 - accuracy: 0.9813"
     ]
    }
   ],
   "source": [
    "history = model_1.fit(new_xtrain, y_train, epochs=10, validation_data=(new_xtest, y_test) ,validation_split=20)"
   ]
  },
  {
   "cell_type": "code",
   "execution_count": null,
   "id": "ba2e13b6",
   "metadata": {},
   "outputs": [],
   "source": [
    "loss, accuracy = model_1.evaluate(new_xtest, y_test)\n",
    "\n",
    "print(f\"The Accuracy Testing Data is ==> {accuracy} %\")\n",
    "print(f\"The loss Testing Data is ==> {loss}\")"
   ]
  },
  {
   "cell_type": "code",
   "execution_count": 50,
   "id": "9e138c5d",
   "metadata": {},
   "outputs": [],
   "source": [
    "prediction_mo = model_1.predict(new_test)\n",
    "prediction_mo = [pre.argmax() for pre in prediction_mo]"
   ]
  },
  {
   "cell_type": "code",
   "execution_count": 57,
   "id": "7dc8bc97",
   "metadata": {},
   "outputs": [],
   "source": [
    "submition_2 = pd.DataFrame({\"imageid\": range(1, len(prediction_mo)+1),\n",
    "                             \"Label\": prediction_mo})"
   ]
  },
  {
   "cell_type": "code",
   "execution_count": null,
   "id": "3b8c2179",
   "metadata": {},
   "outputs": [],
   "source": []
  }
 ],
 "metadata": {
  "kernelspec": {
   "display_name": "Python 3 (ipykernel)",
   "language": "python",
   "name": "python3"
  },
  "language_info": {
   "codemirror_mode": {
    "name": "ipython",
    "version": 3
   },
   "file_extension": ".py",
   "mimetype": "text/x-python",
   "name": "python",
   "nbconvert_exporter": "python",
   "pygments_lexer": "ipython3",
   "version": "3.10.9"
  }
 },
 "nbformat": 4,
 "nbformat_minor": 5
}
